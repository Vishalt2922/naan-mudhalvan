{
  "cells": [
    {
      "cell_type": "markdown",
      "metadata": {
        "id": "la1t9lWXSNpt"
      },
      "source": []
    },
    {
      "cell_type": "markdown",
      "metadata": {
        "id": "j7Oy3QIZRS9H"
      },
      "source": []
    },
    {
      "cell_type": "code",
      "execution_count": null,
      "metadata": {
        "id": "vdC7LhfpNBfv"
      },
      "outputs": [],
      "source": []
    },
    {
      "cell_type": "markdown",
      "metadata": {
        "id": "FFokwlgwQWUU"
      },
      "source": []
    },
    {
      "cell_type": "code",
      "execution_count": null,
      "metadata": {
        "colab": {
          "background_save": true,
          "base_uri": "https://localhost:8080/"
        },
        "id": "xfGgXHgtNCLY",
        "outputId": "9c244ffc-66f3-40d8-ccfe-478fcf5ac38c"
      },
      "outputs": [
        {
          "name": "stdout",
          "output_type": "stream",
          "text": [
            "Downloading data from https://storage.googleapis.com/tensorflow/tf-keras-datasets/mnist.npz\n",
            "11490434/11490434 [==============================] - 1s 0us/step\n",
            "Epoch 1/10\n",
            "469/469 [==============================] - 156s 331ms/step - loss: 0.2528 - accuracy: 0.9236 - val_loss: 0.0503 - val_accuracy: 0.9841\n",
            "Epoch 2/10\n",
            "469/469 [==============================] - 152s 323ms/step - loss: 0.0884 - accuracy: 0.9740 - val_loss: 0.0419 - val_accuracy: 0.9866\n",
            "Epoch 3/10\n",
            "469/469 [==============================] - 152s 323ms/step - loss: 0.0660 - accuracy: 0.9797 - val_loss: 0.0336 - val_accuracy: 0.9889\n",
            "Epoch 4/10\n",
            "469/469 [==============================] - 151s 321ms/step - loss: 0.0541 - accuracy: 0.9836 - val_loss: 0.0327 - val_accuracy: 0.9886\n",
            "Epoch 5/10\n",
            "469/469 [==============================] - 148s 316ms/step - loss: 0.0477 - accuracy: 0.9843 - val_loss: 0.0305 - val_accuracy: 0.9900\n",
            "Epoch 6/10\n",
            "469/469 [==============================] - 147s 315ms/step - loss: 0.0382 - accuracy: 0.9879 - val_loss: 0.0291 - val_accuracy: 0.9904\n",
            "Epoch 7/10\n",
            "469/469 [==============================] - 156s 334ms/step - loss: 0.0388 - accuracy: 0.9880 - val_loss: 0.0266 - val_accuracy: 0.9915\n",
            "Epoch 8/10\n",
            "469/469 [==============================] - 145s 310ms/step - loss: 0.0311 - accuracy: 0.9896 - val_loss: 0.0278 - val_accuracy: 0.9917\n",
            "Epoch 9/10\n",
            "469/469 [==============================] - 150s 319ms/step - loss: 0.0306 - accuracy: 0.9901 - val_loss: 0.0264 - val_accuracy: 0.9926\n",
            "Epoch 10/10\n",
            "469/469 [==============================] - 143s 304ms/step - loss: 0.0257 - accuracy: 0.9919 - val_loss: 0.0306 - val_accuracy: 0.9916\n",
            "Test loss: 0.0305682010948658\n",
            "Test accuracy: 0.991599977016449\n"
          ]
        }
      ],
      "source": [
        "\n",
        "# Import necessary libraries\n",
        "import numpy as np\n",
        "import matplotlib.pyplot as plt\n",
        "from keras.datasets import mnist\n",
        "from keras.models import Sequential\n",
        "from keras.layers import Dense, Dropout, Flatten\n",
        "from keras.layers import Conv2D, MaxPooling2D\n",
        "from keras.utils import to_categorical\n",
        "\n",
        "# Load the MNIST dataset\n",
        "(x_train, y_train), (x_test, y_test) = mnist.load_data()\n",
        "\n",
        "# Preprocess the data\n",
        "x_train = x_train.reshape(x_train.shape[0], 28, 28, 1).astype('float32') / 255\n",
        "x_test = x_test.reshape(x_test.shape[0], 28, 28, 1).astype('float32') / 255\n",
        "y_train = to_categorical(y_train, 10)\n",
        "y_test = to_categorical(y_test, 10)\n",
        "\n",
        "# Define the CNN model\n",
        "model = Sequential()\n",
        "model.add(Conv2D(32, kernel_size=(3, 3), activation='relu', input_shape=(28, 28, 1)))\n",
        "model.add(Conv2D(64, (3, 3), activation='relu'))\n",
        "model.add(MaxPooling2D(pool_size=(2, 2)))\n",
        "model.add(Dropout(0.25))\n",
        "model.add(Flatten())\n",
        "model.add(Dense(128, activation='relu'))\n",
        "model.add(Dropout(0.5))\n",
        "model.add(Dense(10, activation='softmax'))\n",
        "\n",
        "# Compile the model\n",
        "model.compile(loss='categorical_crossentropy', optimizer='adam', metrics=['accuracy'])\n",
        "\n",
        "# Train the model\n",
        "model.fit(x_train, y_train, batch_size=128, epochs=10, validation_data=(x_test, y_test))\n",
        "\n",
        "# Evaluate the model\n",
        "score = model.evaluate(x_test, y_test, verbose=0)\n",
        "print('Test loss:', score[0])\n",
        "print('Test accuracy:', score[1])"
      ]
    },
    {
      "cell_type": "markdown",
      "metadata": {
        "id": "e0moM2VkNDqk"
      },
      "source": []
    }
  ],
  "metadata": {
    "colab": {
      "provenance": []
    },
    "kernelspec": {
      "display_name": "Python 3",
      "name": "python3"
    },
    "language_info": {
      "name": "python"
    }
  },
  "nbformat": 4,
  "nbformat_minor": 0
}